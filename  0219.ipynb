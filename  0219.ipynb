{
 "cells": [
  {
   "cell_type": "code",
   "execution_count": 2,
   "metadata": {},
   "outputs": [],
   "source": [
    "import numpy as np\n",
    "import matplotlib.pyplot as plt\n",
    "import seaborn as sns\n",
    "import pandas as pd"
   ]
  },
  {
   "cell_type": "code",
   "execution_count": 18,
   "metadata": {},
   "outputs": [],
   "source": [
    "path = \"/Users/jasminecjwchen/Documents/GitHub/COMS-4995-ACV-Project/data/test/10109/spoof/560087.png\""
   ]
  },
  {
   "cell_type": "code",
   "execution_count": 19,
   "metadata": {},
   "outputs": [],
   "source": [
    "img1_arr = plt.imread(path)"
   ]
  },
  {
   "cell_type": "code",
   "execution_count": 20,
   "metadata": {},
   "outputs": [
    {
     "data": {
      "text/plain": [
       "(450, 600, 3)"
      ]
     },
     "execution_count": 20,
     "metadata": {},
     "output_type": "execute_result"
    }
   ],
   "source": [
    "img1_arr.shape"
   ]
  },
  {
   "cell_type": "code",
   "execution_count": 15,
   "metadata": {},
   "outputs": [
    {
     "name": "stdout",
     "output_type": "stream",
     "text": [
      "83 35 51 54 0.9867693\n",
      "\n"
     ]
    }
   ],
   "source": [
    "img1_txt = \"\"\n",
    "with open(\"data/test/3613/spoof/511091_BB.txt\") as f:\n",
    "    img1_txt = f.readline()\n",
    "print(img1_txt)"
   ]
  },
  {
   "cell_type": "code",
   "execution_count": 16,
   "metadata": {},
   "outputs": [
    {
     "data": {
      "text/plain": [
       "'83 35 51 54 0.9867693'"
      ]
     },
     "execution_count": 16,
     "metadata": {},
     "output_type": "execute_result"
    }
   ],
   "source": [
    "img1_txt.strip()"
   ]
  },
  {
   "cell_type": "code",
   "execution_count": 17,
   "metadata": {},
   "outputs": [
    {
     "data": {
      "text/plain": [
       "['83', '35', '51', '54', '0.9867693']"
      ]
     },
     "execution_count": 17,
     "metadata": {},
     "output_type": "execute_result"
    }
   ],
   "source": [
    "img1_params = img1_txt.split()\n",
    "img1_params"
   ]
  },
  {
   "cell_type": "code",
   "execution_count": 21,
   "metadata": {},
   "outputs": [],
   "source": [
    "from glob import glob as g"
   ]
  },
  {
   "cell_type": "code",
   "execution_count": 33,
   "metadata": {},
   "outputs": [
    {
     "data": {
      "text/plain": [
       "47247"
      ]
     },
     "execution_count": 33,
     "metadata": {},
     "output_type": "execute_result"
    }
   ],
   "source": [
    "spoof_pics = g(\"/Users/jasminecjwchen/Documents/GitHub/COMS-4995-ACV-Project/data/test/*/spoof/*.png\")\n",
    "len(spoof_pics)"
   ]
  },
  {
   "cell_type": "code",
   "execution_count": 32,
   "metadata": {},
   "outputs": [
    {
     "data": {
      "text/plain": [
       "19923"
      ]
     },
     "execution_count": 32,
     "metadata": {},
     "output_type": "execute_result"
    }
   ],
   "source": [
    "live_pics = g(\"/Users/jasminecjwchen/Documents/GitHub/COMS-4995-ACV-Project/data/test/*/live/*.png\")\n",
    "len(live_pics)"
   ]
  },
  {
   "cell_type": "code",
   "execution_count": 37,
   "metadata": {},
   "outputs": [],
   "source": [
    "def find_max_dimension_from_path(path):\n",
    "    pics = g(path)\n",
    "    \n",
    "    maxHeightPicHeight, maxHeightPicWidth = 0, 0\n",
    "    maxWidthPicHeight, maxWidthPicWidth = 0, 0\n",
    "    \n",
    "    for pic in pics:\n",
    "        height, width, _ = plt.imread(pic).shape\n",
    "        if height >= maxHeightPicHeight:\n",
    "            maxHeightPicHeight = height\n",
    "            maxHeightPicWidth = max(width, maxHeightPicWidth)\n",
    "        if width >= maxWidthPicWidth:\n",
    "            maxWidthPicHeight = max(height, maxWidthPicHeight)\n",
    "            maxWidthPicWidth = width\n",
    "    \n",
    "    return (maxHeightPicHeight, maxHeightPicWidth, maxWidthPicHeight, maxWidthPicWidth)"
   ]
  },
  {
   "cell_type": "code",
   "execution_count": 40,
   "metadata": {},
   "outputs": [
    {
     "name": "stdout",
     "output_type": "stream",
     "text": [
      "(640, 480, 640, 640)\n"
     ]
    }
   ],
   "source": [
    "print(find_max_dimension_from_path(\"/Users/jasminecjwchen/Documents/GitHub/COMS-4995-ACV-Project/data/test/*/spoof/*.png\"))"
   ]
  },
  {
   "cell_type": "code",
   "execution_count": 41,
   "metadata": {},
   "outputs": [
    {
     "name": "stdout",
     "output_type": "stream",
     "text": [
      "(5616, 4933, 5191, 5616)\n"
     ]
    }
   ],
   "source": [
    "print(find_max_dimension_from_path(\"/Users/jasminecjwchen/Documents/GitHub/COMS-4995-ACV-Project/data/test/*/live/*.png\"))"
   ]
  },
  {
   "cell_type": "code",
   "execution_count": null,
   "metadata": {},
   "outputs": [],
   "source": []
  }
 ],
 "metadata": {
  "kernelspec": {
   "display_name": "Python 3",
   "language": "python",
   "name": "python3"
  },
  "language_info": {
   "codemirror_mode": {
    "name": "ipython",
    "version": 3
   },
   "file_extension": ".py",
   "mimetype": "text/x-python",
   "name": "python",
   "nbconvert_exporter": "python",
   "pygments_lexer": "ipython3",
   "version": "3.9.6"
  }
 },
 "nbformat": 4,
 "nbformat_minor": 2
}
